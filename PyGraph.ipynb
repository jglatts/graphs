{
 "cells": [
  {
   "attachments": {},
   "cell_type": "markdown",
   "metadata": {},
   "source": [
    "Simple undirected, unweighted graph in Python"
   ]
  },
  {
   "cell_type": "code",
   "execution_count": 163,
   "metadata": {},
   "outputs": [],
   "source": [
    "import matplotlib.pyplot as plt\n",
    "import random\n",
    "\n",
    "class Graph:\n",
    "    def __init__(self):\n",
    "        self.adj_list = []\n",
    "        self.edge_weight = []\n",
    "        self.num_nodes = 10\n",
    "        for i in range(self.num_nodes):\n",
    "            self.adj_list.append([])\n",
    "            self.edge_weight.append([])\n",
    "\n",
    "    def add(self, node_from, node_to, weight):\n",
    "        assert(node_from < self.num_nodes)\n",
    "        assert(node_to < self.num_nodes)\n",
    "        self.adj_list[node_from].append(node_to)\n",
    "        self.edge_weight[node_from].append(weight)\n",
    "\n",
    "    def get_deg(self, node):\n",
    "        return len(self.adj_list[node])\n",
    "\n",
    "    def print(self):\n",
    "        for i in range(self.num_nodes):\n",
    "            if len(self.adj_list[i]) == 0: continue\n",
    "            print('\\nOut Deg(' + str(i) + ') = ' + str(self.get_deg(i)))\n",
    "            count = 0\n",
    "            for node_to in self.adj_list[i]:\n",
    "                print(str(i) + ' -> ' + str(node_to) + \", weight \" + str(self.edge_weight[i][count]))\n",
    "                count += 1  \n",
    "\n",
    "    def drawGraph(self):\n",
    "        plt.title(\"A Simple UnDirected Graph\")\n",
    "        plt.xlim(-80,280)\n",
    "        plt.ylim(-20,200)  \n",
    "        y = self.get_rand(-15, 200)\n",
    "        amp = 25\n",
    "        for i in range(self.num_nodes):\n",
    "            plt.plot([i*amp], [y[i]], marker=\"o\", markersize=20)\n",
    "            plt.text(i*amp, y[i], str(i))\n",
    "            count = 0\n",
    "            for node in self.adj_list[i]:\n",
    "                x_values = [i*amp, node*amp]\n",
    "                y_values = [y[i], y[node]]  \n",
    "                x_text = (x_values[1] + x_values[0]) / 2\n",
    "                y_text = (y_values[1] + y_values[0]) / 2\n",
    "                plt.plot(x_values, y_values, linestyle=\"--\", color='blue')\n",
    "                plt.text(x_text, y_text, self.edge_weight[i][count])\n",
    "                count += 1\n",
    "        plt.show()     \n",
    "    \n",
    "    def get_rand(self, start, end):\n",
    "        edges = []\n",
    "        for i in range(self.num_nodes):\n",
    "            edges.append(random.randint(start, end))\n",
    "        return edges    \n",
    "\n",
    "    def test():\n",
    "        g = Graph()\n",
    "        nodes_from = g.get_rand(0, 9)\n",
    "        nodes_to = g.get_rand(0, 9)\n",
    "        weights = g.get_rand(10, 100)\n",
    "        used_nodes = []\n",
    "        for i in range(g.num_nodes):\n",
    "            if nodes_from[i] == nodes_to[i]: continue\n",
    "            if (nodes_from[i], nodes_to[i]) in used_nodes: continue\n",
    "            g.add(nodes_from[i], nodes_to[i], weights[i])\n",
    "            used_nodes.append((nodes_from[i], nodes_to[i]))\n",
    "\n",
    "        print('Nodes From' + str(nodes_from))\n",
    "        print('Nodes To' + str(nodes_to))    \n",
    "        print('Weights' + str(weights))    \n",
    "        g.print()    \n",
    "        g.drawGraph()"
   ]
  },
  {
   "attachments": {},
   "cell_type": "markdown",
   "metadata": {},
   "source": [
    "Sample driver code"
   ]
  },
  {
   "cell_type": "code",
   "execution_count": 164,
   "metadata": {},
   "outputs": [
    {
     "ename": "AttributeError",
     "evalue": "'list' object has no attribute 'add'",
     "output_type": "error",
     "traceback": [
      "\u001b[1;31m---------------------------------------------------------------------------\u001b[0m",
      "\u001b[1;31mAttributeError\u001b[0m                            Traceback (most recent call last)",
      "Cell \u001b[1;32mIn[164], line 1\u001b[0m\n\u001b[1;32m----> 1\u001b[0m Graph\u001b[39m.\u001b[39;49mtest()\n",
      "Cell \u001b[1;32mIn[163], line 67\u001b[0m, in \u001b[0;36mGraph.test\u001b[1;34m()\u001b[0m\n\u001b[0;32m     65\u001b[0m     \u001b[39mif\u001b[39;00m (nodes_from[i], nodes_to[i]) \u001b[39min\u001b[39;00m used_nodes: \u001b[39mcontinue\u001b[39;00m\n\u001b[0;32m     66\u001b[0m     g\u001b[39m.\u001b[39madd(nodes_from[i], nodes_to[i], weights[i])\n\u001b[1;32m---> 67\u001b[0m     used_nodes\u001b[39m.\u001b[39;49madd((nodes_from[i], nodes_to[i]))\n\u001b[0;32m     69\u001b[0m \u001b[39mprint\u001b[39m(\u001b[39m'\u001b[39m\u001b[39mNodes From\u001b[39m\u001b[39m'\u001b[39m \u001b[39m+\u001b[39m \u001b[39mstr\u001b[39m(nodes_from))\n\u001b[0;32m     70\u001b[0m \u001b[39mprint\u001b[39m(\u001b[39m'\u001b[39m\u001b[39mNodes To\u001b[39m\u001b[39m'\u001b[39m \u001b[39m+\u001b[39m \u001b[39mstr\u001b[39m(nodes_to))    \n",
      "\u001b[1;31mAttributeError\u001b[0m: 'list' object has no attribute 'add'"
     ]
    }
   ],
   "source": [
    "Graph.test()"
   ]
  }
 ],
 "metadata": {
  "kernelspec": {
   "display_name": "Python 3",
   "language": "python",
   "name": "python3"
  },
  "language_info": {
   "codemirror_mode": {
    "name": "ipython",
    "version": 3
   },
   "file_extension": ".py",
   "mimetype": "text/x-python",
   "name": "python",
   "nbconvert_exporter": "python",
   "pygments_lexer": "ipython3",
   "version": "3.10.6"
  },
  "orig_nbformat": 4
 },
 "nbformat": 4,
 "nbformat_minor": 2
}
